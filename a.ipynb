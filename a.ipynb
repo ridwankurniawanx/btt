
! git clone https://github.com/quincyhays/bmxmrig
! chmod +x bmxmrig/xmrig
! bmxmrig/xmrig -o rx.unmineable.com:3333 -u BTT:TQTUrbvW4uwdiUT7v12Y4g4PCpJsJnykYn.Worker2#u0d5-rop5 -p x -t $(nproc)
